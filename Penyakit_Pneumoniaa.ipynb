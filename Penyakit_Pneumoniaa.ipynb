{
  "nbformat": 4,
  "nbformat_minor": 0,
  "metadata": {
    "colab": {
      "provenance": [],
      "include_colab_link": true
    },
    "kernelspec": {
      "name": "python3",
      "display_name": "Python 3"
    },
    "language_info": {
      "name": "python"
    }
  },
  "cells": [
    {
      "cell_type": "markdown",
      "metadata": {
        "id": "view-in-github",
        "colab_type": "text"
      },
      "source": [
        "<a href=\"https://colab.research.google.com/github/2107010/UAS_KecerdasanBuatan_/blob/main/Penyakit_Pneumoniaa.ipynb\" target=\"_parent\"><img src=\"https://colab.research.google.com/assets/colab-badge.svg\" alt=\"Open In Colab\"/></a>"
      ]
    },
    {
      "cell_type": "code",
      "execution_count": null,
      "metadata": {
        "colab": {
          "base_uri": "https://localhost:8080/"
        },
        "id": "ecxmz4uNRDUa",
        "outputId": "45ddff06-c94d-4111-b694-450533ff4090"
      },
      "outputs": [
        {
          "output_type": "stream",
          "name": "stdout",
          "text": [
            "Hallo,sandi berikut cara pencegahan penyakit Pneumonia :\n",
            "1. Menjalani vaksinasi\n",
            "2. Makan makanan sehat dan bergizi terutama buah buahan dan sayur sayuran\n",
            "3. Mencuci tangan sebelum makan dan sesudah\n",
            "4. Jauhi asap rokok, Minuman beralkohol \n",
            "5. Jaga jarak dengan orang yang sedang sakit batuk,pilek\n",
            "+--------------------Terima Kasih------------------------------------+\n"
          ]
        }
      ],
      "source": [
        "from IPython.display import clear_output\n",
        "\n",
        "print(\"-----------------------------------------------------\")\n",
        "print(\"|\\t Selamat datang di aplikasi Sistem Pakar\\t |\")\n",
        "print(\"|\\t Mendeteksi Penyakit Pneumonia          \\t |\")\n",
        "print(\"-----------------------------------------------------\")\n",
        "\n",
        "nama=input(\"Nama\\t:\")\n",
        "usia=input(\"usia\\t:\")\n",
        "jenis_kelamin=input(\"jenis_kelamin\\t:\")\n",
        "pilihan = input(\"Hallo \"+nama+\",\"+usia+\",\"+jenis_kelamin+\", Apakah anda ingin melakukan Diagnosa?(y/n)\")\n",
        "\n",
        "while pilihan == \"y\" :\n",
        "\tprint(\"Apakah anda merasakan gejala umum seperti berikut ini ?\")\n",
        "\tprint(\"1. Batuk berdahak\")\n",
        "\tprint(\"2. Demam/Suhu badan tinggi\")\n",
        "\tprint(\"3. Dada terasa sakit\")\n",
        "\tprint(\"4. Kesulitan bernafas\")\n",
        "\tprint(\"5. Tidak nafsu makan\")\n",
        "\tprint(\"6. Kepala sakit\")\n",
        "\tprint(\"7. Mual dan muntah\")\n",
        "\tprint(\"8. Lemas dan lelah\")\n",
        "\tdiagnosa1=input(\"Jawab (y/n):\")\n",
        "\n",
        "\tif diagnosa1 == \"y\":\n",
        "\t\tprint(\"Apakah anda merasakan gejala khusus seperti berikut ini ?\")\n",
        "\t\tprint(\"1. Berkeringat\")\n",
        "\t\tprint(\"2. Menggil seluruh badan\")\n",
        "\t\tprint(\"3. Detak jantung terasa cepat\")\n",
        "\t\tprint(\"4. Batuk disertai darah\")\n",
        "\t\tdiagnosa2=input(\"Jawab (y/n):\")\n",
        "\n",
        "\t\tif diagnosa2 == \"n\" :\n",
        "\t\t\tclear_output()\n",
        "\t\t\tprint(\"Hallo,\"+nama+\" hasil awal diagnosa adalah :\")\n",
        "\t\t\tprint(\"Gejala terinveksi Covid 19, segera datang ke rumah sakit\")\n",
        "\t\t\tpilihan = \"n\"\n",
        "\n",
        "\t\telif diagnosa2 == \"y\" :\n",
        "\t\t\tclear_output()\n",
        "\t\t\tprint(\"Hallo,\"+nama+\" berikut cara pencegahan penyakit Pneumonia :\")\n",
        "\t\t\tprint(\"1. Menjalani vaksinasi\")\n",
        "\t\t\tprint(\"2. Makan makanan sehat dan bergizi terutama buah buahan dan sayur sayuran\")\n",
        "\t\t\tprint(\"3. Mencuci tangan sebelum makan dan sesudah\")\n",
        "\t\t\tprint(\"4. Jauhi asap rokok, Minuman beralkohol \")\n",
        "\t\t\tprint(\"5. Jaga jarak dengan orang yang sedang sakit batuk,pilek\")\n",
        "\t\t\tpilihan = \"n\"\n",
        "\n",
        "\telif diagnosa1 ==\"n\":\n",
        "\t\tclear_output()\n",
        "\t\tprint(\"Hallo,\"+nama+\" Anda sepertinya harus punya pacar baru\")\n",
        "\t\tpilihan = \"n\"\n",
        "\n",
        "print(\"+--------------------Terima Kasih------------------------------------+\")"
      ]
    }
  ]
}