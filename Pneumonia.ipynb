{
  "nbformat": 4,
  "nbformat_minor": 0,
  "metadata": {
    "colab": {
      "provenance": []
    },
    "kernelspec": {
      "name": "python3",
      "display_name": "Python 3"
    },
    "language_info": {
      "name": "python"
    }
  },
  "cells": [
    {
      "cell_type": "code",
      "source": [
        "import os\n",
        "\n",
        "print(\"-----------------------------------------------------\")\n",
        "print(\"|\\t Selamat datang di aplikasi Sistem Pakar\\t |\")\n",
        "print(\"|\\t Mendeteksi Penyakit Pneumonia          \\t |\")\n",
        "print(\"-----------------------------------------------------\")\n",
        "\n",
        "nama=input(\"Nama\\t:\")\n",
        "usia=input(\"usia\\t:\")\n",
        "jenis_kelamin=input(\"jenis_kelamin\\t:\")\n",
        "pilihan = input(\"Hallo \"+nama+\",\"+usia+\",\"+jenis_kelamin+\", Apakah anda ingin melakukan Diagnosa?(y/n)\")\n",
        "\n",
        "while pilihan == \"y\" :\n",
        "    print(\"Apakah anda merasakan gejala umum seperti berikut ini ?\")\n",
        "    print(\"1. Batuk berdahak\")\n",
        "    print(\"2. Demam/Suhu badan tinggi\")\n",
        "    print(\"3. Dada terasa sakit\")\n",
        "    print(\"4. Kesulitan bernafas\")\n",
        "    print(\"5. Tidak nafsu makan\")\n",
        "    print(\"6. Kepala sakit\")\n",
        "    print(\"7. Mual dan muntah\")\n",
        "    print(\"8. Lemas dan lelah\")\n",
        "    diagnosa1=input(\"Jawab (y/n):\")\n",
        "\n",
        "    if diagnosa1 == \"y\":\n",
        "      print(\"Apakah anda merasakan gejala khusus seperti berikut ini ?\")\n",
        "      print(\"1. Berkeringat\")\n",
        "      print(\"2. Menggil seluruh badan\")\n",
        "      print(\"3. Detak jantung terasa cepat\")\n",
        "      print(\"4. Batuk disertai darah\")\n",
        "      diagnosa2=input(\"Jawab (y/n):\")\n",
        "\n",
        "    if diagnosa2 == \"n\" :\n",
        "      os.system('cls')\n",
        "      print(\"Hallo,\"+nama+\" hasil awal diagnosa adalah :\")\n",
        "      print(\"Gejala terinveksi Covid 19, segera datang ke rumah sakit\")\n",
        "      exit(0)\n",
        "\n",
        "    elif diagnosa2 == \"y\" :\n",
        "      os.system('cls')\n",
        "      print(\"Hallo,\"+nama+\" berikut cara pencegahan penyakit Pneumonia :\")\n",
        "      print(\"1. Menjalani vaksinasi\")\n",
        "      print(\"2. Makan makanan sehat dan bergizi terutama buah buahan dan sayur sayuran\")\n",
        "      print(\"3. Mencuci tangan sebelum makan dan sesudah\")\n",
        "      print(\"4. Jauhi asap rokok, Minuman beralkohol \")\n",
        "      print(\"5. Jaga jarak dengan orang yang sedang sakit batuk,pilek\")\n",
        "      exit(0)\n",
        "\n",
        "    elif diagnosa1 ==\"n\":\n",
        "      os.system('cls')\n",
        "      print(\"Hallo,\"+nama+\" Anda sepertinya harus punya pacar baru\")\n",
        "      exit(0)\n",
        "\n",
        "print(\"+--------------------Terima Kasih------------------------------------+\")"
      ],
      "metadata": {
        "colab": {
          "base_uri": "https://localhost:8080/",
          "height": 380
        },
        "id": "ZYWvMmFYIwc5",
        "outputId": "9d7314a4-3064-4563-f26b-35eac43d6081"
      },
      "execution_count": 1,
      "outputs": [
        {
          "output_type": "error",
          "ename": "KeyboardInterrupt",
          "evalue": "ignored",
          "traceback": [
            "\u001b[0;31m---------------------------------------------------------------------------\u001b[0m",
            "\u001b[0;31mKeyboardInterrupt\u001b[0m                         Traceback (most recent call last)",
            "\u001b[0;32m<ipython-input-1-10e1d7fe2fe6>\u001b[0m in \u001b[0;36m<cell line: 13>\u001b[0;34m()\u001b[0m\n\u001b[1;32m     21\u001b[0m     \u001b[0mprint\u001b[0m\u001b[0;34m(\u001b[0m\u001b[0;34m\"7. Mual dan muntah\"\u001b[0m\u001b[0;34m)\u001b[0m\u001b[0;34m\u001b[0m\u001b[0;34m\u001b[0m\u001b[0m\n\u001b[1;32m     22\u001b[0m     \u001b[0mprint\u001b[0m\u001b[0;34m(\u001b[0m\u001b[0;34m\"8. Lemas dan lelah\"\u001b[0m\u001b[0;34m)\u001b[0m\u001b[0;34m\u001b[0m\u001b[0;34m\u001b[0m\u001b[0m\n\u001b[0;32m---> 23\u001b[0;31m     \u001b[0mdiagnosa1\u001b[0m\u001b[0;34m=\u001b[0m\u001b[0minput\u001b[0m\u001b[0;34m(\u001b[0m\u001b[0;34m\"Jawab (y/n):\"\u001b[0m\u001b[0;34m)\u001b[0m\u001b[0;34m\u001b[0m\u001b[0;34m\u001b[0m\u001b[0m\n\u001b[0m\u001b[1;32m     24\u001b[0m \u001b[0;34m\u001b[0m\u001b[0m\n\u001b[1;32m     25\u001b[0m     \u001b[0;32mif\u001b[0m \u001b[0mdiagnosa1\u001b[0m \u001b[0;34m==\u001b[0m \u001b[0;34m\"y\"\u001b[0m\u001b[0;34m:\u001b[0m\u001b[0;34m\u001b[0m\u001b[0;34m\u001b[0m\u001b[0m\n",
            "\u001b[0;32m/usr/local/lib/python3.10/dist-packages/ipykernel/kernelbase.py\u001b[0m in \u001b[0;36mraw_input\u001b[0;34m(self, prompt)\u001b[0m\n\u001b[1;32m    849\u001b[0m                 \u001b[0;34m\"raw_input was called, but this frontend does not support input requests.\"\u001b[0m\u001b[0;34m\u001b[0m\u001b[0;34m\u001b[0m\u001b[0m\n\u001b[1;32m    850\u001b[0m             )\n\u001b[0;32m--> 851\u001b[0;31m         return self._input_request(str(prompt),\n\u001b[0m\u001b[1;32m    852\u001b[0m             \u001b[0mself\u001b[0m\u001b[0;34m.\u001b[0m\u001b[0m_parent_ident\u001b[0m\u001b[0;34m,\u001b[0m\u001b[0;34m\u001b[0m\u001b[0;34m\u001b[0m\u001b[0m\n\u001b[1;32m    853\u001b[0m             \u001b[0mself\u001b[0m\u001b[0;34m.\u001b[0m\u001b[0m_parent_header\u001b[0m\u001b[0;34m,\u001b[0m\u001b[0;34m\u001b[0m\u001b[0;34m\u001b[0m\u001b[0m\n",
            "\u001b[0;32m/usr/local/lib/python3.10/dist-packages/ipykernel/kernelbase.py\u001b[0m in \u001b[0;36m_input_request\u001b[0;34m(self, prompt, ident, parent, password)\u001b[0m\n\u001b[1;32m    893\u001b[0m             \u001b[0;32mexcept\u001b[0m \u001b[0mKeyboardInterrupt\u001b[0m\u001b[0;34m:\u001b[0m\u001b[0;34m\u001b[0m\u001b[0;34m\u001b[0m\u001b[0m\n\u001b[1;32m    894\u001b[0m                 \u001b[0;31m# re-raise KeyboardInterrupt, to truncate traceback\u001b[0m\u001b[0;34m\u001b[0m\u001b[0;34m\u001b[0m\u001b[0m\n\u001b[0;32m--> 895\u001b[0;31m                 \u001b[0;32mraise\u001b[0m \u001b[0mKeyboardInterrupt\u001b[0m\u001b[0;34m(\u001b[0m\u001b[0;34m\"Interrupted by user\"\u001b[0m\u001b[0;34m)\u001b[0m \u001b[0;32mfrom\u001b[0m \u001b[0;32mNone\u001b[0m\u001b[0;34m\u001b[0m\u001b[0;34m\u001b[0m\u001b[0m\n\u001b[0m\u001b[1;32m    896\u001b[0m             \u001b[0;32mexcept\u001b[0m \u001b[0mException\u001b[0m \u001b[0;32mas\u001b[0m \u001b[0me\u001b[0m\u001b[0;34m:\u001b[0m\u001b[0;34m\u001b[0m\u001b[0;34m\u001b[0m\u001b[0m\n\u001b[1;32m    897\u001b[0m                 \u001b[0mself\u001b[0m\u001b[0;34m.\u001b[0m\u001b[0mlog\u001b[0m\u001b[0;34m.\u001b[0m\u001b[0mwarning\u001b[0m\u001b[0;34m(\u001b[0m\u001b[0;34m\"Invalid Message:\"\u001b[0m\u001b[0;34m,\u001b[0m \u001b[0mexc_info\u001b[0m\u001b[0;34m=\u001b[0m\u001b[0;32mTrue\u001b[0m\u001b[0;34m)\u001b[0m\u001b[0;34m\u001b[0m\u001b[0;34m\u001b[0m\u001b[0m\n",
            "\u001b[0;31mKeyboardInterrupt\u001b[0m: Interrupted by user"
          ]
        }
      ]
    }
  ]
}